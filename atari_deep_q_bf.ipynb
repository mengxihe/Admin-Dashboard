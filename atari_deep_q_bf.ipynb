{
  "nbformat": 4,
  "nbformat_minor": 0,
  "metadata": {
    "colab": {
      "provenance": [],
      "gpuType": "T4",
      "collapsed_sections": [
        "a18RNGbsRib5",
        "hjcy1vY4Pr3u",
        "JzPSIFMPPkMi",
        "Oh0mPgEeP-CM",
        "aR6gu2SqxPXa"
      ],
      "authorship_tag": "ABX9TyNBiJM9xB55sal/c3vvWT65",
      "include_colab_link": true
    },
    "kernelspec": {
      "name": "python3",
      "display_name": "Python 3"
    },
    "language_info": {
      "name": "python"
    },
    "accelerator": "GPU"
  },
  "cells": [
    {
      "cell_type": "markdown",
      "metadata": {
        "id": "view-in-github",
        "colab_type": "text"
      },
      "source": [
        "<a href=\"https://colab.research.google.com/github/mengxihe/Admin-Dashboard/blob/main/atari_deep_q_bf.ipynb\" target=\"_parent\"><img src=\"https://colab.research.google.com/assets/colab-badge.svg\" alt=\"Open In Colab\"/></a>"
      ]
    },
    {
      "cell_type": "markdown",
      "source": [
        "# **Setup**"
      ],
      "metadata": {
        "id": "a18RNGbsRib5"
      }
    },
    {
      "cell_type": "code",
      "execution_count": null,
      "metadata": {
        "id": "5zx4RpuBVljf"
      },
      "outputs": [],
      "source": [
        "!pip install git+https://github.com/DLR-RM/rl-baselines3-zoo@update/hf"
      ]
    },
    {
      "cell_type": "code",
      "source": [
        "!apt-get install swig cmake ffmpeg"
      ],
      "metadata": {
        "id": "NyR65ngFWpQv"
      },
      "execution_count": null,
      "outputs": []
    },
    {
      "cell_type": "code",
      "source": [
        "!pip install gymnasium[atari]\n",
        "!pip install gymnasium[accept-rom-license]"
      ],
      "metadata": {
        "id": "X9kATxA-WuXt"
      },
      "execution_count": null,
      "outputs": []
    },
    {
      "cell_type": "code",
      "source": [
        "%%capture\n",
        "!apt install python-opengl\n",
        "!apt install xvfb\n",
        "!pip3 install pyvirtualdisplay"
      ],
      "metadata": {
        "id": "w-WD8KKpXCUJ"
      },
      "execution_count": null,
      "outputs": []
    },
    {
      "cell_type": "code",
      "source": [
        "# Virtual display\n",
        "from pyvirtualdisplay import Display\n",
        "\n",
        "virtual_display = Display(visible=0, size=(1400, 900))\n",
        "virtual_display.start()"
      ],
      "metadata": {
        "id": "0_XKuseEXHoZ"
      },
      "execution_count": null,
      "outputs": []
    },
    {
      "cell_type": "markdown",
      "source": [
        "# **Training**"
      ],
      "metadata": {
        "id": "hjcy1vY4Pr3u"
      }
    },
    {
      "cell_type": "code",
      "source": [
        "!python -m rl_zoo3.train --algo dqn  --env MsPacmanNoFrameskip-v4 -f logs/ -c dqn.yml"
      ],
      "metadata": {
        "id": "ARNoQBn8xD6J"
      },
      "execution_count": null,
      "outputs": []
    },
    {
      "cell_type": "markdown",
      "source": [
        "# **Record Vedio**"
      ],
      "metadata": {
        "id": "JzPSIFMPPkMi"
      }
    },
    {
      "cell_type": "code",
      "source": [
        "!python -m rl_zoo3.record_video  --algo dqn  --env MsPacmanNoFrameskip-v4  --folder logs/  --n-timesteps 1000"
      ],
      "metadata": {
        "id": "j-TkpReXj4W7"
      },
      "execution_count": null,
      "outputs": []
    },
    {
      "cell_type": "code",
      "source": [
        "!ls logs\n",
        "!rm -rf logs/*"
      ],
      "metadata": {
        "colab": {
          "base_uri": "https://localhost:8080/"
        },
        "id": "P3A9NRH3A8Sj",
        "outputId": "63d707bd-e645-4590-945b-273209f00bb7"
      },
      "execution_count": null,
      "outputs": [
        {
          "output_type": "stream",
          "name": "stdout",
          "text": [
            "dqn\n"
          ]
        }
      ]
    },
    {
      "cell_type": "markdown",
      "source": [
        "# **Evaluate**"
      ],
      "metadata": {
        "id": "Oh0mPgEeP-CM"
      }
    },
    {
      "cell_type": "code",
      "source": [
        "!python -m rl_zoo3.enjoy  --algo dqn  --env MsPacmanNoFrameskip-v4  --no-render  --n-timesteps 5000  --folder logs/"
      ],
      "metadata": {
        "id": "025WYRZdY152"
      },
      "execution_count": null,
      "outputs": []
    },
    {
      "cell_type": "markdown",
      "source": [
        "# **Push to Hub**"
      ],
      "metadata": {
        "id": "aR6gu2SqxPXa"
      }
    },
    {
      "cell_type": "code",
      "source": [
        "from huggingface_hub import notebook_login\n",
        "notebook_login()\n",
        "!git config --global credential.helper store"
      ],
      "metadata": {
        "id": "njbrPkIxaHD5"
      },
      "execution_count": null,
      "outputs": []
    },
    {
      "cell_type": "code",
      "source": [
        "!python -m rl_zoo3.push_to_hub  --algo dqn  --env MsPacmanNoFrameskip-v4  --repo-name dqn-MsPacmanNoFrameskip-v4  -orga YoungMeng  -f logs/"
      ],
      "metadata": {
        "id": "O8L9NfCZaT0z"
      },
      "execution_count": null,
      "outputs": []
    }
  ]
}